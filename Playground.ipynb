{
 "cells": [
  {
   "cell_type": "markdown",
   "metadata": {},
   "source": [
    "## Playground for utilities to load, parse, and transform bank files\n"
   ]
  },
  {
   "cell_type": "code",
   "execution_count": 70,
   "metadata": {},
   "outputs": [],
   "source": [
    "import pandas as pd\n",
    "# import numpy as np\n",
    "import json\n",
    "\n",
    "from decimal import Decimal # To represent monetary values  https://docs.python.org/3/library/decimal.html  "
   ]
  },
  {
   "cell_type": "code",
   "execution_count": 71,
   "metadata": {},
   "outputs": [],
   "source": [
    "# Data types for GL data\n",
    "type TransactionID = str   # Unique identifier for each transaction - TBD / maybe a hash of the transaction details?\n",
    "type TransactionItemID = int # Item number within transaction document\n",
    "type TransactionDate = str # ... to be determined how to handle this\n",
    "type TransactionAmount = Decimal # \n",
    "type DebitCreditIndicator = str # 'D' or 'C'\n",
    "type TransactionDescription = str\n",
    "type AccountID = str\n",
    "type CurrencyUnit = str\n",
    "type BusinessPartner = str\n",
    "type Origin = str  # The original bank or credit card account that the transaction came from\n",
    "\n",
    "# Can possibly be simplified by using @dataclass decorator\n",
    "# Data type of GL item\n",
    "class GLItem:\n",
    "    def __init__(self, transactionID: TransactionID, transactionItemID: TransactionItemID, \n",
    "                 transactionDate: TransactionDate, transactionAmount: TransactionAmount, \n",
    "                 debitCreditIndicator: DebitCreditIndicator, transactionDescription: TransactionDescription, accountID: AccountID, \n",
    "                 currencyUnit: CurrencyUnit, businessPartner: BusinessPartner, origin: Origin):\n",
    "        self.transactionID = transactionID\n",
    "        self.transactionItemID = transactionItemID\n",
    "        self.transactionDate = transactionDate\n",
    "        self.transactionAmount = transactionAmount\n",
    "        self.debitCreditIndicator = debitCreditIndicator\n",
    "        self.transactionDescription = transactionDescription\n",
    "        self.accountID = accountID\n",
    "        self.currencyUnit = currencyUnit\n",
    "        self.businessPartner = businessPartner\n",
    "        self.Origin = origin\n",
    "\n",
    "    def __str__(self):\n",
    "        return f'{self.transactionID}, {self.transactionDate}, {self.transactionAmount}, {self.debitCreditIndicator}, {self.transactionDescription}, {self.accountID}, {self.currencyUnit}, {self.businessPartner}, {self.Origin}'\n",
    "\n",
    "    def __repr__(self):\n",
    "        return f'{self.transactionID}, {self.transactionDate}, {self.transactionAmount}, {self.debitCreditIndicator}, {self.transactionDescription}, {self.accountID}, {self.currencyUnit}, {self.businessPartner}, {self.Origin}'"
   ]
  },
  {
   "cell_type": "code",
   "execution_count": null,
   "metadata": {},
   "outputs": [],
   "source": [
    "# Read Wells Fargo test file into data frame\n",
    "wfc_ColumnNames = ['Date', 'Amount', 'Unknown', 'CheckNo', 'Description']\n",
    "# wfc_ColumnDataTypes = {'Amount': np.float16, 'Unknown': str, 'CheckNo': np.int16, 'Description': str}\n",
    "wfc_RawData = pd.read_csv('Bank-Files/WF-test.csv', index_col=None, parse_dates=True, \n",
    "                         names=wfc_ColumnNames)\n",
    "wfc_RawData.head(5)"
   ]
  },
  {
   "cell_type": "code",
   "execution_count": null,
   "metadata": {},
   "outputs": [],
   "source": [
    "# Read bank descriptor\n",
    "with open('BankDescriptor-WFC.json', 'r') as file:\n",
    "    wfc_bankDescriptor = json.load(file)\n",
    "\n",
    "print(wfc_bankDescriptor)"
   ]
  },
  {
   "cell_type": "code",
   "execution_count": null,
   "metadata": {},
   "outputs": [],
   "source": [
    "# Read account determination (JSON file) into dictionary\n",
    "\n",
    "with open(wfc_bankDescriptor['AccountDeterminationFile'], 'r') as file:\n",
    "    wfc_accountDetermination = json.load(file)\n",
    "\n",
    "print(wfc_accountDetermination)"
   ]
  },
  {
   "cell_type": "code",
   "execution_count": 75,
   "metadata": {},
   "outputs": [],
   "source": [
    "# print(wfc_accountDetermination['PITCAIRN HOMEOWN Payment']) #to be updated to match new JSON structure"
   ]
  },
  {
   "cell_type": "code",
   "execution_count": 76,
   "metadata": {},
   "outputs": [],
   "source": [
    "\n",
    "# for key, value in wfc_accountDetermination.items():\n",
    "#    print(f\"String: {key}, Account: {value[\"Account\"]}\")"
   ]
  },
  {
   "cell_type": "code",
   "execution_count": null,
   "metadata": {},
   "outputs": [],
   "source": [
    "\n",
    "for index, row in wfc_RawData.head(5).iterrows():\n",
    "    print(f\"Index: {index}\")\n",
    "    print(row.Date, row.Amount, row.Description)"
   ]
  },
  {
   "cell_type": "code",
   "execution_count": 78,
   "metadata": {},
   "outputs": [],
   "source": [
    "# Another way to loop the data frame\n",
    "# Assuming df is your DataFrame\n",
    "#def process_row(row):\n",
    "#    print(row)\n",
    "\n",
    "#wfc_RawData.apply(process_row, axis=1)"
   ]
  },
  {
   "cell_type": "code",
   "execution_count": null,
   "metadata": {},
   "outputs": [],
   "source": [
    "# Loop through the data frame and determine the account\n",
    "for index, row in wfc_RawData.head(5).iterrows():\n",
    "    print(f\"Index: {index}\")\n",
    "    print(row.Date, row.Amount, row.Description)\n",
    "    for key, value in wfc_accountDetermination.items():\n",
    "        #print(f\"String: {key}, Account: {value}\")\n",
    "        if key in row.Description:\n",
    "            print(f\"Account determination: String: {key}, Account: {value[\"Account\"]}, Business Partner: {value[\"BP\"]}\")\n",
    "            break\n",
    "    # handle case when no account is found: ...\n",
    "    "
   ]
  },
  {
   "cell_type": "code",
   "execution_count": 80,
   "metadata": {},
   "outputs": [],
   "source": [
    "class AccountDetermination:\n",
    "    def __init__(self, json_file):\n",
    "        with open(json_file, 'r') as file:\n",
    "            self.accountDetermination = json.load(file)\n",
    "\n",
    "    def determine_account(self, description: str):\n",
    "        for item in self.accountDetermination['accountDetermination']:\n",
    "            if item['searchString'] in description:\n",
    "                return item\n",
    "        return None\n",
    "\n",
    "# Example usage:\n",
    "# account_det = AccountDetermination('AccountDetermination-WFC.json')\n",
    "# account = account_det.determine_account('INTEREST PAYMENT')\n",
    "# print(account)"
   ]
  },
  {
   "cell_type": "code",
   "execution_count": null,
   "metadata": {},
   "outputs": [],
   "source": [
    "import hashlib\n",
    "import sqlite3\n",
    "\n",
    "#\n",
    "accountDetermination_wfc = AccountDetermination('AccountDetermination-WFC.json')\n",
    "\n",
    "transactionItemID: TransactionItemID\n",
    "\n",
    "for index, row in wfc_RawData.head(15).iterrows():\n",
    "    print(f\"Index: {index}\", row.Date, row.Amount, row.Description, \n",
    "          f\"Account: {accountDetermination_wfc.determine_account(row.Description)}\")\n",
    "    accounts = accountDetermination_wfc.determine_account(row.Description)\n",
    "    if accounts is None:\n",
    "        print(f\"Account not found for description: {row.Description}\")\n",
    "        continue\n",
    "    accountID = accounts['Account']\n",
    "    businessPartner = accounts['BP']\n",
    "    print(f\"Account: {accountID}, Business Partner: {businessPartner}\")\n",
    "    transactionDate = row.Date\n",
    "    transactionAmount: TransactionAmount = row.Amount\n",
    "    print(f\"Transaction Date: {transactionDate}, Transaction Amount: {transactionAmount}\")\n",
    "    transactionDescription = row.Description\n",
    "    print(f\"Transaction Description: {transactionDescription}\")\n",
    "    # set the currency unit\n",
    "    currencyUnit = 'USD'\n",
    "    # Set the debit or credit indicator (this is based on GL, no how banks handle it - just the opposite)\n",
    "    # For a regular bank account, a deposit is a debit and a withdrawal is a credit to the bank balance sheet account\n",
    "    if transactionAmount >= 0:\n",
    "        debitCreditIndicator = 'D' # Debit to bank balance sheet account\n",
    "    else:\n",
    "        debitCreditIndicator = 'C' # Credit to bank balance sheet account\n",
    "    # Set the origin\n",
    "    Origin = wfc_bankDescriptor['BankAccountDescription']\n",
    "\n",
    "    # set the transactionID\n",
    "    # Create a hash of the complete row to use as transactionID\n",
    "    row_data = f\"{row.Date}{row.Amount}{row.Description}{Origin}\"\n",
    "    transactionID = hashlib.sha256(row_data.encode()).hexdigest()\n",
    "    transactionItemID = 1\n",
    "    print(f\"Transaction ID: {transactionID}\")\n",
    "\n",
    "    # Create a GL item\n",
    "    gl_item = GLItem(transactionID, transactionItemID, transactionDate, transactionAmount, debitCreditIndicator, transactionDescription, accountID, currencyUnit, businessPartner, Origin)\n",
    "    print(\"--------------------\")\n",
    "    print(gl_item)\n",
    "    print(\"--------------------\")\n",
    "    # write the GL item to a file\n",
    "    #with open('GL-Files/gl_items.csv', 'a') as f:\n",
    "    #    f.write(f'{gl_item.transactionID},{gl_item.transactionDate},{gl_item.transactionAmount},{gl_item.debitCreditIndicator},{gl_item.transactionDescription},{gl_item.accountID},{gl_item.currencyUnit},{gl_item.businessPartner},{gl_item.Origin}\\n')\n",
    "\n",
    "    # Connect to SQLite database (or create it if it doesn't exist)\n",
    "    conn = sqlite3.connect('GL-Files/gl_items.db')\n",
    "    cursor = conn.cursor()\n",
    "\n",
    "    # Create table if it doesn't exist\n",
    "    cursor.execute('''\n",
    "    CREATE TABLE IF NOT EXISTS gl_items2 (\n",
    "        transactionID TEXT,\n",
    "        transactionItemID INTEGER,\n",
    "        transactionDate TEXT,\n",
    "        transactionAmount REAL,\n",
    "        debitCreditIndicator TEXT,\n",
    "        transactionDescription TEXT,\n",
    "        accountID TEXT,\n",
    "        currencyUnit TEXT,\n",
    "        businessPartner TEXT,\n",
    "        origin TEXT,\n",
    "        PRIMARY KEY (transactionID, transactionItemID)\n",
    "    )\n",
    "    ''')\n",
    "\n",
    "    # Check if the transactionID already exists in the database\n",
    "    cursor.execute('SELECT transactionID FROM gl_items2 WHERE transactionID = ?', (transactionID,))\n",
    "    if cursor.fetchone() is None:\n",
    "        # Insert the GL item into the database\n",
    "        cursor.execute('''\n",
    "        INSERT INTO gl_items2 (transactionID, transactionItemID, transactionDate, transactionAmount, debitCreditIndicator, transactionDescription, accountID, currencyUnit, businessPartner, origin)\n",
    "        VALUES (?, ?, ?, ?, ?, ?, ?, ?, ?, ?)\n",
    "        ''', (gl_item.transactionID, gl_item.transactionItemID, gl_item.transactionDate, gl_item.transactionAmount, gl_item.debitCreditIndicator, gl_item.transactionDescription, gl_item.accountID, gl_item.currencyUnit, gl_item.businessPartner, gl_item.Origin))\n",
    "        conn.commit()\n",
    "        print(f\"Inserted GL item with transactionID: {transactionID}\")\n",
    "    else:\n",
    "        print(f\"GL item with transactionID: {transactionID} already exists in the database\")\n",
    "\n",
    "    # Close the database connection\n",
    "    conn.close()"
   ]
  }
 ],
 "metadata": {
  "kernelspec": {
   "display_name": "Python 3",
   "language": "python",
   "name": "python3"
  },
  "language_info": {
   "codemirror_mode": {
    "name": "ipython",
    "version": 3
   },
   "file_extension": ".py",
   "mimetype": "text/x-python",
   "name": "python",
   "nbconvert_exporter": "python",
   "pygments_lexer": "ipython3",
   "version": "3.12.7"
  }
 },
 "nbformat": 4,
 "nbformat_minor": 2
}

{
 "cells": [
  {
   "cell_type": "markdown",
   "metadata": {},
   "source": [
    "## Playground for utilities to load, parse, and transform bank files\n"
   ]
  },
  {
   "cell_type": "code",
   "execution_count": 186,
   "metadata": {},
   "outputs": [],
   "source": [
    "import pandas as pd\n",
    "# import numpy as np\n",
    "import json\n",
    "\n",
    "from decimal import Decimal # To represent monetary values  https://docs.python.org/3/library/decimal.html  "
   ]
  },
  {
   "cell_type": "code",
   "execution_count": 187,
   "metadata": {},
   "outputs": [],
   "source": [
    "# Data types for GL data\n",
    "type TransactionID = str   # Unique identifier for each transaction - TBD / maybe a hash of the transaction details?\n",
    "type TransactionDate = str # ... to be determined how to handle this\n",
    "type TransactionAmount = Decimal # \n",
    "type DebitCreditIndicator = str # 'D' or 'C'\n",
    "type TransactionDescription = str\n",
    "type AccountID = str\n",
    "type CurrencyUnit = str\n",
    "type BusinessPartner = str\n",
    "type Origin = str  # The original bank or credit card account that the transaction came from\n",
    "\n",
    "# Can possibly be simplified by using @dataclass decorator\n",
    "# Data type of GL item\n",
    "class GLItem:\n",
    "    def __init__(self, transactionID: TransactionID, transactionDate: TransactionDate, transactionAmount: TransactionAmount, \n",
    "                 debitCreditIndicator: DebitCreditIndicator, transactionDescription: TransactionDescription, accountID: AccountID, \n",
    "                 currencyUnit: CurrencyUnit, businessPartner: BusinessPartner, origin: Origin):\n",
    "        self.transactionID = transactionID\n",
    "        self.transactionDate = transactionDate\n",
    "        self.transactionAmount = transactionAmount\n",
    "        self.debitCreditIndicator = debitCreditIndicator\n",
    "        self.transactionDescription = transactionDescription\n",
    "        self.accountID = accountID\n",
    "        self.currencyUnit = currencyUnit\n",
    "        self.businessPartner = businessPartner\n",
    "        self.Origin = origin\n",
    "\n",
    "    def __str__(self):\n",
    "        return f'{self.transactionID}, {self.transactionDate}, {self.transactionAmount}, {self.debitCreditIndicator}, {self.transactionDescription}, {self.accountID}, {self.currencyUnit}, {self.businessPartner}, {self.Origin}'\n",
    "\n",
    "    def __repr__(self):\n",
    "        return f'{self.transactionID}, {self.transactionDate}, {self.transactionAmount}, {self.debitCreditIndicator}, {self.transactionDescription}, {self.accountID}, {self.currencyUnit}, {self.businessPartner}, {self.Origin}'"
   ]
  },
  {
   "cell_type": "code",
   "execution_count": 188,
   "metadata": {},
   "outputs": [
    {
     "data": {
      "text/html": [
       "<div>\n",
       "<style scoped>\n",
       "    .dataframe tbody tr th:only-of-type {\n",
       "        vertical-align: middle;\n",
       "    }\n",
       "\n",
       "    .dataframe tbody tr th {\n",
       "        vertical-align: top;\n",
       "    }\n",
       "\n",
       "    .dataframe thead th {\n",
       "        text-align: right;\n",
       "    }\n",
       "</style>\n",
       "<table border=\"1\" class=\"dataframe\">\n",
       "  <thead>\n",
       "    <tr style=\"text-align: right;\">\n",
       "      <th></th>\n",
       "      <th>Date</th>\n",
       "      <th>Amount</th>\n",
       "      <th>Unknown</th>\n",
       "      <th>CheckNo</th>\n",
       "      <th>Description</th>\n",
       "    </tr>\n",
       "  </thead>\n",
       "  <tbody>\n",
       "    <tr>\n",
       "      <th>0</th>\n",
       "      <td>01/02/2025</td>\n",
       "      <td>-283.00</td>\n",
       "      <td>*</td>\n",
       "      <td>NaN</td>\n",
       "      <td>PITCAIRN HOMEOWN Payment XXXXX8552 Theo Zimmer...</td>\n",
       "    </tr>\n",
       "    <tr>\n",
       "      <th>1</th>\n",
       "      <td>01/02/2025</td>\n",
       "      <td>-1353.48</td>\n",
       "      <td>*</td>\n",
       "      <td>NaN</td>\n",
       "      <td>WF HOME MTG AUTO PAY 010125 XXXXXX9336 THEO A ...</td>\n",
       "    </tr>\n",
       "    <tr>\n",
       "      <th>2</th>\n",
       "      <td>01/02/2025</td>\n",
       "      <td>-559.74</td>\n",
       "      <td>*</td>\n",
       "      <td>NaN</td>\n",
       "      <td>Wageworks Bat6098782 BID564 PID 32656565 CLAUD...</td>\n",
       "    </tr>\n",
       "    <tr>\n",
       "      <th>3</th>\n",
       "      <td>01/02/2025</td>\n",
       "      <td>-500.00</td>\n",
       "      <td>*</td>\n",
       "      <td>NaN</td>\n",
       "      <td>APPLECARD GSBANK PAYMENT 123024 55683437 Theo ...</td>\n",
       "    </tr>\n",
       "    <tr>\n",
       "      <th>4</th>\n",
       "      <td>12/31/2024</td>\n",
       "      <td>0.10</td>\n",
       "      <td>*</td>\n",
       "      <td>NaN</td>\n",
       "      <td>INTEREST PAYMENT</td>\n",
       "    </tr>\n",
       "  </tbody>\n",
       "</table>\n",
       "</div>"
      ],
      "text/plain": [
       "         Date   Amount Unknown  CheckNo  \\\n",
       "0  01/02/2025  -283.00       *      NaN   \n",
       "1  01/02/2025 -1353.48       *      NaN   \n",
       "2  01/02/2025  -559.74       *      NaN   \n",
       "3  01/02/2025  -500.00       *      NaN   \n",
       "4  12/31/2024     0.10       *      NaN   \n",
       "\n",
       "                                         Description  \n",
       "0  PITCAIRN HOMEOWN Payment XXXXX8552 Theo Zimmer...  \n",
       "1  WF HOME MTG AUTO PAY 010125 XXXXXX9336 THEO A ...  \n",
       "2  Wageworks Bat6098782 BID564 PID 32656565 CLAUD...  \n",
       "3  APPLECARD GSBANK PAYMENT 123024 55683437 Theo ...  \n",
       "4                                   INTEREST PAYMENT  "
      ]
     },
     "execution_count": 188,
     "metadata": {},
     "output_type": "execute_result"
    }
   ],
   "source": [
    "# Read Wells Fargo test file into data frame\n",
    "wfc_ColumnNames = ['Date', 'Amount', 'Unknown', 'CheckNo', 'Description']\n",
    "# wfc_ColumnDataTypes = {'Amount': np.float16, 'Unknown': str, 'CheckNo': np.int16, 'Description': str}\n",
    "wfc_RawData = pd.read_csv('Bank-Files/WF-test.csv', index_col=None, parse_dates=True, \n",
    "                         names=wfc_ColumnNames)\n",
    "wfc_RawData.head(5)"
   ]
  },
  {
   "cell_type": "code",
   "execution_count": 189,
   "metadata": {},
   "outputs": [
    {
     "name": "stdout",
     "output_type": "stream",
     "text": [
      "{'BankAccountDescription': 'Wells Fargo Checking', 'BankAccountNumber': '*7846', 'BalanceSheetAccount': 'BS-WF-CHK', 'AccountDeterminationFile': 'AccountDetermination-WFC.json'}\n"
     ]
    }
   ],
   "source": [
    "# Read bank descriptor\n",
    "with open('BankDescriptor-WFC.json', 'r') as file:\n",
    "    wfc_bankDescriptor = json.load(file)\n",
    "\n",
    "print(wfc_bankDescriptor)"
   ]
  },
  {
   "cell_type": "code",
   "execution_count": 190,
   "metadata": {},
   "outputs": [
    {
     "name": "stdout",
     "output_type": "stream",
     "text": [
      "{'PITCAIRN HOMEOWN Payment': {'Account': 'EXP-542T', 'BP': 'Pitcairn HOA'}, 'WF HOME MTG AUTO PAY': {'Account': 'EXP-MOR-1311A', 'BP': 'Wells Fargo'}, 'Wageworks': {'Account': 'EXP-HC-CBR', 'BP': 'Wageworks'}, 'APPLECARD GSBANK PAYMENT': {'Account': 'BC-TRAN-CCPAY', 'BP': 'Apple Card'}, 'INTEREST PAYMENT': {'Account': 'REV-INT', 'BP': 'Wells Fargo'}}\n"
     ]
    }
   ],
   "source": [
    "# Read account determination (JSON file) into dictionary\n",
    "\n",
    "with open(wfc_bankDescriptor['AccountDeterminationFile'], 'r') as file:\n",
    "    wfc_accountDetermination = json.load(file)\n",
    "\n",
    "print(wfc_accountDetermination)"
   ]
  },
  {
   "cell_type": "code",
   "execution_count": 191,
   "metadata": {},
   "outputs": [
    {
     "name": "stdout",
     "output_type": "stream",
     "text": [
      "{'Account': 'EXP-542T', 'BP': 'Pitcairn HOA'}\n"
     ]
    }
   ],
   "source": [
    "print(wfc_accountDetermination['PITCAIRN HOMEOWN Payment'])"
   ]
  },
  {
   "cell_type": "code",
   "execution_count": 192,
   "metadata": {},
   "outputs": [
    {
     "name": "stdout",
     "output_type": "stream",
     "text": [
      "String: PITCAIRN HOMEOWN Payment, Account: EXP-542T\n",
      "String: WF HOME MTG AUTO PAY, Account: EXP-MOR-1311A\n",
      "String: Wageworks, Account: EXP-HC-CBR\n",
      "String: APPLECARD GSBANK PAYMENT, Account: BC-TRAN-CCPAY\n",
      "String: INTEREST PAYMENT, Account: REV-INT\n"
     ]
    }
   ],
   "source": [
    "\n",
    "for key, value in wfc_accountDetermination.items():\n",
    "    print(f\"String: {key}, Account: {value[\"Account\"]}\")"
   ]
  },
  {
   "cell_type": "code",
   "execution_count": 193,
   "metadata": {},
   "outputs": [
    {
     "name": "stdout",
     "output_type": "stream",
     "text": [
      "Index: 0\n",
      "01/02/2025 -283.0 PITCAIRN HOMEOWN Payment XXXXX8552 Theo Zimmermann\n",
      "Index: 1\n",
      "01/02/2025 -1353.48 WF HOME MTG AUTO PAY 010125 XXXXXX9336 THEO A ZIMMERMANN\n",
      "Index: 2\n",
      "01/02/2025 -559.74 Wageworks Bat6098782 BID564 PID 32656565 CLAUDIA ALVARADO\n",
      "Index: 3\n",
      "01/02/2025 -500.0 APPLECARD GSBANK PAYMENT 123024 55683437 Theo Zimmermann\n",
      "Index: 4\n",
      "12/31/2024 0.1 INTEREST PAYMENT\n"
     ]
    }
   ],
   "source": [
    "\n",
    "for index, row in wfc_RawData.head(5).iterrows():\n",
    "    print(f\"Index: {index}\")\n",
    "    print(row.Date, row.Amount, row.Description)"
   ]
  },
  {
   "cell_type": "code",
   "execution_count": 194,
   "metadata": {},
   "outputs": [],
   "source": [
    "# Another way to loop the data frame\n",
    "# Assuming df is your DataFrame\n",
    "#def process_row(row):\n",
    "#    print(row)\n",
    "\n",
    "#wfc_RawData.apply(process_row, axis=1)"
   ]
  },
  {
   "cell_type": "code",
   "execution_count": 195,
   "metadata": {},
   "outputs": [
    {
     "name": "stdout",
     "output_type": "stream",
     "text": [
      "Index: 0\n",
      "01/02/2025 -283.0 PITCAIRN HOMEOWN Payment XXXXX8552 Theo Zimmermann\n",
      "Account determination: String: PITCAIRN HOMEOWN Payment, Account: EXP-542T, Business Partner: Pitcairn HOA\n",
      "Index: 1\n",
      "01/02/2025 -1353.48 WF HOME MTG AUTO PAY 010125 XXXXXX9336 THEO A ZIMMERMANN\n",
      "Account determination: String: WF HOME MTG AUTO PAY, Account: EXP-MOR-1311A, Business Partner: Wells Fargo\n",
      "Index: 2\n",
      "01/02/2025 -559.74 Wageworks Bat6098782 BID564 PID 32656565 CLAUDIA ALVARADO\n",
      "Account determination: String: Wageworks, Account: EXP-HC-CBR, Business Partner: Wageworks\n",
      "Index: 3\n",
      "01/02/2025 -500.0 APPLECARD GSBANK PAYMENT 123024 55683437 Theo Zimmermann\n",
      "Account determination: String: APPLECARD GSBANK PAYMENT, Account: BC-TRAN-CCPAY, Business Partner: Apple Card\n",
      "Index: 4\n",
      "12/31/2024 0.1 INTEREST PAYMENT\n",
      "Account determination: String: INTEREST PAYMENT, Account: REV-INT, Business Partner: Wells Fargo\n"
     ]
    }
   ],
   "source": [
    "# Loop through the data frame and determine the account\n",
    "for index, row in wfc_RawData.head(5).iterrows():\n",
    "    print(f\"Index: {index}\")\n",
    "    print(row.Date, row.Amount, row.Description)\n",
    "    for key, value in wfc_accountDetermination.items():\n",
    "        #print(f\"String: {key}, Account: {value}\")\n",
    "        if key in row.Description:\n",
    "            print(f\"Account determination: String: {key}, Account: {value[\"Account\"]}, Business Partner: {value[\"BP\"]}\")\n",
    "            break\n",
    "    # handle case when no account is found: ...\n",
    "    "
   ]
  },
  {
   "cell_type": "code",
   "execution_count": 196,
   "metadata": {},
   "outputs": [],
   "source": [
    "class AccountDetermination:\n",
    "    def __init__(self, json_file):\n",
    "        with open(json_file, 'r') as file:\n",
    "            self.account_determination = json.load(file)\n",
    "\n",
    "    def determine_account(self, description: str):\n",
    "        for substring, account in self.account_determination.items():\n",
    "            if substring in description:\n",
    "                return account\n",
    "        return None\n",
    "\n",
    "# Example usage:\n",
    "# account_det = AccountDetermination('AccountDetermination-WFC.json')\n",
    "# account = account_det.determine_account('INTEREST PAYMENT')\n",
    "# print(account)"
   ]
  },
  {
   "cell_type": "code",
   "execution_count": 198,
   "metadata": {},
   "outputs": [
    {
     "name": "stdout",
     "output_type": "stream",
     "text": [
      "Index: 0 01/02/2025 -283.0 PITCAIRN HOMEOWN Payment XXXXX8552 Theo Zimmermann Account: {'Account': 'EXP-542T', 'BP': 'Pitcairn HOA'}\n",
      "Account: EXP-542T, Business Partner: Pitcairn HOA\n",
      "Transaction Date: 01/02/2025, Transaction Amount: -283.0\n",
      "Transaction Description: PITCAIRN HOMEOWN Payment XXXXX8552 Theo Zimmermann\n",
      "Transaction ID: 61f28bce358234c35c1d07ae6092769d2f1b4876a114e00089518b1e46387e6a\n",
      "--------------------\n",
      "61f28bce358234c35c1d07ae6092769d2f1b4876a114e00089518b1e46387e6a, 01/02/2025, -283.0, C, PITCAIRN HOMEOWN Payment XXXXX8552 Theo Zimmermann, EXP-542T, USD, Pitcairn HOA, Wells Fargo Checking\n",
      "--------------------\n",
      "GL item with transactionID: 61f28bce358234c35c1d07ae6092769d2f1b4876a114e00089518b1e46387e6a already exists in the database\n",
      "Index: 1 01/02/2025 -1353.48 WF HOME MTG AUTO PAY 010125 XXXXXX9336 THEO A ZIMMERMANN Account: {'Account': 'EXP-MOR-1311A', 'BP': 'Wells Fargo'}\n",
      "Account: EXP-MOR-1311A, Business Partner: Wells Fargo\n",
      "Transaction Date: 01/02/2025, Transaction Amount: -1353.48\n",
      "Transaction Description: WF HOME MTG AUTO PAY 010125 XXXXXX9336 THEO A ZIMMERMANN\n",
      "Transaction ID: 698d05204142d1c308ea38c904949c81b0358715109bec3395f31b0b695e4cf4\n",
      "--------------------\n",
      "698d05204142d1c308ea38c904949c81b0358715109bec3395f31b0b695e4cf4, 01/02/2025, -1353.48, C, WF HOME MTG AUTO PAY 010125 XXXXXX9336 THEO A ZIMMERMANN, EXP-MOR-1311A, USD, Wells Fargo, Wells Fargo Checking\n",
      "--------------------\n",
      "GL item with transactionID: 698d05204142d1c308ea38c904949c81b0358715109bec3395f31b0b695e4cf4 already exists in the database\n",
      "Index: 2 01/02/2025 -559.74 Wageworks Bat6098782 BID564 PID 32656565 CLAUDIA ALVARADO Account: {'Account': 'EXP-HC-CBR', 'BP': 'Wageworks'}\n",
      "Account: EXP-HC-CBR, Business Partner: Wageworks\n",
      "Transaction Date: 01/02/2025, Transaction Amount: -559.74\n",
      "Transaction Description: Wageworks Bat6098782 BID564 PID 32656565 CLAUDIA ALVARADO\n",
      "Transaction ID: 6888341f4a9a26e46b36112e0fe063c8866e6616ecc7c1bd38c8bd6fb936215c\n",
      "--------------------\n",
      "6888341f4a9a26e46b36112e0fe063c8866e6616ecc7c1bd38c8bd6fb936215c, 01/02/2025, -559.74, C, Wageworks Bat6098782 BID564 PID 32656565 CLAUDIA ALVARADO, EXP-HC-CBR, USD, Wageworks, Wells Fargo Checking\n",
      "--------------------\n",
      "GL item with transactionID: 6888341f4a9a26e46b36112e0fe063c8866e6616ecc7c1bd38c8bd6fb936215c already exists in the database\n",
      "Index: 3 01/02/2025 -500.0 APPLECARD GSBANK PAYMENT 123024 55683437 Theo Zimmermann Account: {'Account': 'BC-TRAN-CCPAY', 'BP': 'Apple Card'}\n",
      "Account: BC-TRAN-CCPAY, Business Partner: Apple Card\n",
      "Transaction Date: 01/02/2025, Transaction Amount: -500.0\n",
      "Transaction Description: APPLECARD GSBANK PAYMENT 123024 55683437 Theo Zimmermann\n",
      "Transaction ID: a27f5420ecc43b8fdd3f96cdaf01046bf074bda4330e68a5272ea7b5828b09e4\n",
      "--------------------\n",
      "a27f5420ecc43b8fdd3f96cdaf01046bf074bda4330e68a5272ea7b5828b09e4, 01/02/2025, -500.0, C, APPLECARD GSBANK PAYMENT 123024 55683437 Theo Zimmermann, BC-TRAN-CCPAY, USD, Apple Card, Wells Fargo Checking\n",
      "--------------------\n",
      "GL item with transactionID: a27f5420ecc43b8fdd3f96cdaf01046bf074bda4330e68a5272ea7b5828b09e4 already exists in the database\n",
      "Index: 4 12/31/2024 0.1 INTEREST PAYMENT Account: {'Account': 'REV-INT', 'BP': 'Wells Fargo'}\n",
      "Account: REV-INT, Business Partner: Wells Fargo\n",
      "Transaction Date: 12/31/2024, Transaction Amount: 0.1\n",
      "Transaction Description: INTEREST PAYMENT\n",
      "Transaction ID: 675b6337a700cdee9d4d51400daa7c1f6117b32668d20ae0aa9c462397af3262\n",
      "--------------------\n",
      "675b6337a700cdee9d4d51400daa7c1f6117b32668d20ae0aa9c462397af3262, 12/31/2024, 0.1, D, INTEREST PAYMENT, REV-INT, USD, Wells Fargo, Wells Fargo Checking\n",
      "--------------------\n",
      "GL item with transactionID: 675b6337a700cdee9d4d51400daa7c1f6117b32668d20ae0aa9c462397af3262 already exists in the database\n",
      "Index: 5 12/31/2024 217.11 PAYPAL TRANSFER 241230 1039312328760 THEO ZIMMERMANN Account: None\n",
      "Account not found for description: PAYPAL TRANSFER 241230 1039312328760 THEO ZIMMERMANN\n",
      "Index: 6 12/30/2024 -1500.0 APPLECARD GSBANK PAYMENT 122924 55683437 Theo Zimmermann Account: {'Account': 'BC-TRAN-CCPAY', 'BP': 'Apple Card'}\n",
      "Account: BC-TRAN-CCPAY, Business Partner: Apple Card\n",
      "Transaction Date: 12/30/2024, Transaction Amount: -1500.0\n",
      "Transaction Description: APPLECARD GSBANK PAYMENT 122924 55683437 Theo Zimmermann\n",
      "Transaction ID: 93cec1700e8f614f75525633f1d79c2933e80107b1bf029c766adff4a5c65b87\n",
      "--------------------\n",
      "93cec1700e8f614f75525633f1d79c2933e80107b1bf029c766adff4a5c65b87, 12/30/2024, -1500.0, C, APPLECARD GSBANK PAYMENT 122924 55683437 Theo Zimmermann, BC-TRAN-CCPAY, USD, Apple Card, Wells Fargo Checking\n",
      "--------------------\n",
      "GL item with transactionID: 93cec1700e8f614f75525633f1d79c2933e80107b1bf029c766adff4a5c65b87 already exists in the database\n",
      "Index: 7 12/30/2024 -200.0 ATM WITHDRAWAL AUTHORIZED ON 12/28 999 E Hillsdale Blvd Foster City CA 0003689 ATM ID 0191H CARD 4764 Account: None\n",
      "Account not found for description: ATM WITHDRAWAL AUTHORIZED ON 12/28 999 E Hillsdale Blvd Foster City CA 0003689 ATM ID 0191H CARD 4764\n",
      "Index: 8 12/30/2024 -80.88 PURCHASE AUTHORIZED ON 12/28 COSTCO WHSE #0147 FOSTER CITY CA P384363732893360 CARD 9688 Account: None\n",
      "Account not found for description: PURCHASE AUTHORIZED ON 12/28 COSTCO WHSE #0147 FOSTER CITY CA P384363732893360 CARD 9688\n",
      "Index: 9 12/30/2024 -40.3 PURCHASE AUTHORIZED ON 12/28 COSTCO WHSE #0147 FOSTER CITY CA S304363717152167 CARD 9688 Account: None\n",
      "Account not found for description: PURCHASE AUTHORIZED ON 12/28 COSTCO WHSE #0147 FOSTER CITY CA S304363717152167 CARD 9688\n",
      "Index: 10 12/27/2024 -272.32 PGANDE WEB ONLINE DEC 24 14602218120924 THEO ZIMMERMANN Account: None\n",
      "Account not found for description: PGANDE WEB ONLINE DEC 24 14602218120924 THEO ZIMMERMANN\n",
      "Index: 11 12/26/2024 -210.0 ZELLE TO ZIMMERMANN ANDRES ON 12/25 REF #PP0YCSWNTC VON MUTTI Account: None\n",
      "Account not found for description: ZELLE TO ZIMMERMANN ANDRES ON 12/25 REF #PP0YCSWNTC VON MUTTI\n",
      "Index: 12 12/23/2024 -800.0 APPLECARD GSBANK PAYMENT 122124 55683437 Theo Zimmermann Account: {'Account': 'BC-TRAN-CCPAY', 'BP': 'Apple Card'}\n",
      "Account: BC-TRAN-CCPAY, Business Partner: Apple Card\n",
      "Transaction Date: 12/23/2024, Transaction Amount: -800.0\n",
      "Transaction Description: APPLECARD GSBANK PAYMENT 122124 55683437 Theo Zimmermann\n",
      "Transaction ID: dfec713316631afad119fb87b1165cfb27f27e6e93f1fb22825fd0e58248b313\n",
      "--------------------\n",
      "dfec713316631afad119fb87b1165cfb27f27e6e93f1fb22825fd0e58248b313, 12/23/2024, -800.0, C, APPLECARD GSBANK PAYMENT 122124 55683437 Theo Zimmermann, BC-TRAN-CCPAY, USD, Apple Card, Wells Fargo Checking\n",
      "--------------------\n",
      "GL item with transactionID: dfec713316631afad119fb87b1165cfb27f27e6e93f1fb22825fd0e58248b313 already exists in the database\n",
      "Index: 13 12/23/2024 -55.26 ATT Payment 122124 768793003EPAYY theo zimmermann Account: None\n",
      "Account not found for description: ATT Payment 122124 768793003EPAYY theo zimmermann\n",
      "Index: 14 12/23/2024 -18.0 KQED 4155532150 241222 ZIMMERMANN, THEO Account: None\n",
      "Account not found for description: KQED 4155532150 241222 ZIMMERMANN, THEO\n"
     ]
    }
   ],
   "source": [
    "import hashlib\n",
    "import sqlite3\n",
    "\n",
    "#\n",
    "account_determination_wfc = AccountDetermination('AccountDetermination-WFC.json')\n",
    "\n",
    "for index, row in wfc_RawData.head(15).iterrows():\n",
    "    print(f\"Index: {index}\", row.Date, row.Amount, row.Description, \n",
    "          f\"Account: {account_determination_wfc.determine_account(row.Description)}\")\n",
    "    accounts = account_determination_wfc.determine_account(row.Description)\n",
    "    if accounts is None:\n",
    "        print(f\"Account not found for description: {row.Description}\")\n",
    "        continue\n",
    "    accountID = accounts['Account']\n",
    "    businessPartner = accounts['BP']\n",
    "    print(f\"Account: {accountID}, Business Partner: {businessPartner}\")\n",
    "    transactionDate = row.Date\n",
    "    transactionAmount: TransactionAmount = row.Amount\n",
    "    print(f\"Transaction Date: {transactionDate}, Transaction Amount: {transactionAmount}\")\n",
    "    transactionDescription = row.Description\n",
    "    print(f\"Transaction Description: {transactionDescription}\")\n",
    "    # set the currency unit\n",
    "    currencyUnit = 'USD'\n",
    "    # Set the debit or credit indicator (this is based on GL, no how banks handle it - just the opposite)\n",
    "    # For a regular bank account, a deposit is a debit and a withdrawal is a credit to the bank balance sheet account\n",
    "    if transactionAmount >= 0:\n",
    "        debitCreditIndicator = 'D' # Debit to bank balance sheet account\n",
    "    else:\n",
    "        debitCreditIndicator = 'C' # Credit to bank balance sheet account\n",
    "    # Set the origin\n",
    "    Origin = wfc_bankDescriptor['BankAccountDescription']\n",
    "\n",
    "    # set the transactionID\n",
    "    # Create a hash of the complete row to use as transactionID\n",
    "    row_data = f\"{row.Date}{row.Amount}{row.Description}{Origin}\"\n",
    "    transactionID = hashlib.sha256(row_data.encode()).hexdigest()\n",
    "    print(f\"Transaction ID: {transactionID}\")\n",
    "\n",
    "    # Create a GL item\n",
    "    gl_item = GLItem(transactionID, transactionDate, transactionAmount, debitCreditIndicator, transactionDescription, accountID, currencyUnit, businessPartner, Origin)\n",
    "    print(\"--------------------\")\n",
    "    print(gl_item)\n",
    "    print(\"--------------------\")\n",
    "    # write the GL item to a file\n",
    "    #with open('GL-Files/gl_items.csv', 'a') as f:\n",
    "    #    f.write(f'{gl_item.transactionID},{gl_item.transactionDate},{gl_item.transactionAmount},{gl_item.debitCreditIndicator},{gl_item.transactionDescription},{gl_item.accountID},{gl_item.currencyUnit},{gl_item.businessPartner},{gl_item.Origin}\\n')\n",
    "\n",
    "    # Connect to SQLite database (or create it if it doesn't exist)\n",
    "    conn = sqlite3.connect('GL-Files/gl_items.db')\n",
    "    cursor = conn.cursor()\n",
    "\n",
    "    # Create table if it doesn't exist\n",
    "    cursor.execute('''\n",
    "    CREATE TABLE IF NOT EXISTS gl_items (\n",
    "        transactionID TEXT PRIMARY KEY,\n",
    "        transactionDate TEXT,\n",
    "        transactionAmount REAL,\n",
    "        debitCreditIndicator TEXT,\n",
    "        transactionDescription TEXT,\n",
    "        accountID TEXT,\n",
    "        currencyUnit TEXT,\n",
    "        businessPartner TEXT,\n",
    "        origin TEXT\n",
    "    )\n",
    "    ''')\n",
    "\n",
    "    # Check if the transactionID already exists in the database\n",
    "    cursor.execute('SELECT transactionID FROM gl_items WHERE transactionID = ?', (transactionID,))\n",
    "    if cursor.fetchone() is None:\n",
    "        # Insert the GL item into the database\n",
    "        cursor.execute('''\n",
    "        INSERT INTO gl_items (transactionID, transactionDate, transactionAmount, debitCreditIndicator, transactionDescription, accountID, currencyUnit, businessPartner, origin)\n",
    "        VALUES (?, ?, ?, ?, ?, ?, ?, ?, ?)\n",
    "        ''', (gl_item.transactionID, gl_item.transactionDate, gl_item.transactionAmount, gl_item.debitCreditIndicator, gl_item.transactionDescription, gl_item.accountID, gl_item.currencyUnit, gl_item.businessPartner, gl_item.Origin))\n",
    "        conn.commit()\n",
    "        print(f\"Inserted GL item with transactionID: {transactionID}\")\n",
    "    else:\n",
    "        print(f\"GL item with transactionID: {transactionID} already exists in the database\")\n",
    "\n",
    "    # Close the database connection\n",
    "    conn.close()"
   ]
  }
 ],
 "metadata": {
  "kernelspec": {
   "display_name": "Python 3",
   "language": "python",
   "name": "python3"
  },
  "language_info": {
   "codemirror_mode": {
    "name": "ipython",
    "version": 3
   },
   "file_extension": ".py",
   "mimetype": "text/x-python",
   "name": "python",
   "nbconvert_exporter": "python",
   "pygments_lexer": "ipython3",
   "version": "3.12.7"
  }
 },
 "nbformat": 4,
 "nbformat_minor": 2
}
